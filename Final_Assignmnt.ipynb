{
  "metadata": {
    "language_info": {
      "codemirror_mode": {
        "name": "python",
        "version": 3
      },
      "file_extension": ".py",
      "mimetype": "text/x-python",
      "name": "python",
      "nbconvert_exporter": "python",
      "pygments_lexer": "ipython3",
      "version": "3.8"
    },
    "kernelspec": {
      "name": "python",
      "display_name": "Pyolite",
      "language": "python"
    }
  },
  "nbformat_minor": 4,
  "nbformat": 4,
  "cells": [
    {
      "cell_type": "markdown",
      "source": "# My Jupiter Notebook on IBM Watson Studio",
      "metadata": {}
    },
    {
      "cell_type": "markdown",
      "source": "**Kudzaishe Matorevhu**\n\nData Scientist/Entrepreneur",
      "metadata": {}
    },
    {
      "cell_type": "markdown",
      "source": "*I am interested in Data Science because it is a tool to unlock new and valuable insights from data within just about any industry*",
      "metadata": {}
    },
    {
      "cell_type": "markdown",
      "source": "### The code below will print out the line 'Hello Data Scientists'",
      "metadata": {}
    },
    {
      "cell_type": "code",
      "source": "print(\"Hello Data Scientists\")",
      "metadata": {},
      "execution_count": null,
      "outputs": []
    },
    {
      "cell_type": "markdown",
      "source": "|Name| Nationality| Age|\n|----|------------|----|\n|Jim | British    |56  |\n|Tina| Korean     |34  |\n|Ben | Egyptian   |15  |\n\n\n~This line has been perfectly struck through~\n\nThis sentence, and the one below\n*****\nShow the use of horizontal rule\n*****\n\n\n1. This\n2. Is\n3. A\n4. Numbered\n5\n\n",
      "metadata": {}
    }
  ]
}