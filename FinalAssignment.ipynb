{
  "metadata": {
    "language_info": {
      "codemirror_mode": {
        "name": "python",
        "version": 3
      },
      "file_extension": ".py",
      "mimetype": "text/x-python",
      "name": "python",
      "nbconvert_exporter": "python",
      "pygments_lexer": "ipython3",
      "version": "3.8"
    },
    "kernelspec": {
      "name": "python",
      "display_name": "Pyolite",
      "language": "python"
    }
  },
  "nbformat_minor": 4,
  "nbformat": 4,
  "cells": [
    {
      "cell_type": "code",
      "source": "# my friend 3\n",
      "metadata": {
        "jp-MarkdownHeadingCollapsed": true,
        "tags": []
      },
      "execution_count": null,
      "outputs": []
    },
    {
      "cell_type": "code",
      "source": "",
      "metadata": {},
      "execution_count": null,
      "outputs": []
    },
    {
      "cell_type": "markdown",
      "source": "# My Jupyter Notebook on IBM Watson Studio",
      "metadata": {
        "tags": []
      }
    },
    {
      "cell_type": "markdown",
      "source": "**Kudzaishe Matorevhu**\n\nData Scientist/Entrepreneur",
      "metadata": {}
    },
    {
      "cell_type": "markdown",
      "source": "*I am interested in Data Science because it is a useful tool in unlocking new and valuable insights within just about any field. As a naturally curious person, it also provides a useful outlet for this trait*",
      "metadata": {}
    },
    {
      "cell_type": "markdown",
      "source": "### The code below will print the line 'Hello fellow Data Lovers'",
      "metadata": {}
    },
    {
      "cell_type": "code",
      "source": "print(\"Hello fellow Data Lovers\")",
      "metadata": {
        "trusted": true
      },
      "execution_count": 2,
      "outputs": [
        {
          "name": "stdout",
          "text": "Hello fellow Data Lovers\n",
          "output_type": "stream"
        }
      ]
    },
    {
      "cell_type": "markdown",
      "source": "|Name| Nationality| Age|\n|----|------------|----|     \n|Jim | Korean     | 45 |\n|Tina| Zimbabwean |36  |\n|Yami| Egyptian   |73  |\n\n~This text has been struck through, feel free to ignore~\n\nI am using horizontal rule\n*****\nOn these 2 lines\n*****\n\n1. This\n2. Is\n3. A\n4. Numbered\n5. List\n",
      "metadata": {}
    },
    {
      "cell_type": "code",
      "source": "",
      "metadata": {},
      "execution_count": null,
      "outputs": []
    }
  ]
}